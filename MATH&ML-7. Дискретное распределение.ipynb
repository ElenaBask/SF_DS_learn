{
 "cells": [
  {
   "cell_type": "markdown",
   "metadata": {},
   "source": [
    "### **РАВНОМЕРНОЕ РАСПРЕДЕЛЕНИЕ**\n",
    "\n",
    "распределение вероятностей, в качестве значений которого могут выступать любые целые числа от $1$ до $N$, а вероятности их появления одинаковы."
   ]
  },
  {
   "cell_type": "code",
   "execution_count": 1,
   "metadata": {},
   "outputs": [],
   "source": [
    "import numpy as np\n",
    "from scipy.stats import randint\n",
    "\n",
    "# Задаём возможные значения случайной величины\n",
    "x = np.arange(1, 7)\n",
    "# Задаём интервал, на котором будут распределяться наши вероятности\n",
    "disc_uni_dist = randint(1, 7)\n",
    "# Вычисляем вероятности выпадения каждого значения случайной величины\n",
    "pmf = disc_uni_dist.pmf(x)"
   ]
  },
  {
   "cell_type": "code",
   "execution_count": 2,
   "metadata": {},
   "outputs": [
    {
     "name": "stdout",
     "output_type": "stream",
     "text": [
      "[0.16666667 0.33333333 0.5        0.66666667 0.83333333 1.        ]\n"
     ]
    }
   ],
   "source": [
    "# Рассчитаем кумулятивную вероятность\n",
    "cdf = disc_uni_dist.cdf(x)\n",
    "\n",
    "print(cdf)"
   ]
  },
  {
   "cell_type": "markdown",
   "metadata": {},
   "source": [
    "**Пример**\n",
    "\n",
    "Вы участвуете в розыгрыше бесплатного места на новый курс по Data Science. Вы знаете, что участников 250.\n",
    "\n",
    "Какова вероятность, что на курс попадёт кто-то из первых пятидесяти зарегистрировавшихся?"
   ]
  },
  {
   "cell_type": "code",
   "execution_count": 3,
   "metadata": {},
   "outputs": [
    {
     "name": "stdout",
     "output_type": "stream",
     "text": [
      "0.2\n"
     ]
    }
   ],
   "source": [
    "# Задаём возможные значения случайной величины\n",
    "x = np.arange(1, 251)\n",
    "# Задаём интервал, на котором будут распределяться наши вероятности\n",
    "disc_uni_dist = randint(1,251)\n",
    "# Вычисляем вероятности выпадения каждого значения случайной величины\n",
    "cdf = disc_uni_dist.cdf(x)\n",
    "# Ищем вероятность того, что на курс попадёт кто-то из первых 50 зарегистрировавшихся\n",
    "print(cdf[49])"
   ]
  },
  {
   "cell_type": "markdown",
   "metadata": {},
   "source": [
    "### **РАСПРЕДЕЛЕНИЕ БЕРНУЛЛИ**\n",
    "\n",
    "распределение вероятностей случайной величины, принимающей только два значения: 1 («успех») и 0 («неудача») с вероятностями $p$ и $1-p$  соответственно.\n",
    "**Распределение Бернулли** описывает события, имеющие ровно два исхода. "
   ]
  },
  {
   "cell_type": "code",
   "execution_count": 9,
   "metadata": {},
   "outputs": [
    {
     "name": "stderr",
     "output_type": "stream",
     "text": [
      "C:\\Users\\LENOVO\\AppData\\Roaming\\Python\\Python39\\site-packages\\seaborn\\axisgrid.py:118: UserWarning: The figure layout has changed to tight\n",
      "  self._figure.tight_layout(*args, **kwargs)\n"
     ]
    },
    {
     "data": {
      "image/png": "[encoded data removed]",
      "text/plain": [
       "<Figure size 500x500 with 1 Axes>"
      ]
     },
     "metadata": {},
     "output_type": "display_data"
    }
   ],
   "source": [
    "from scipy.stats import bernoulli\n",
    "import seaborn as sns\n",
    "\n",
    "data = bernoulli.rvs(size=500,p=0.6)\n",
    "ax = sns.displot(data,\n",
    "                  kde = False,\n",
    "                  color='dodgerblue')\n",
    "ax.set(xlabel='Значение случайной величины', ylabel='Частота');"
   ]
  },
  {
   "cell_type": "code",
   "execution_count": 7,
   "metadata": {},
   "outputs": [
    {
     "name": "stdout",
     "output_type": "stream",
     "text": [
      "[[  0 190]\n",
      " [  1 310]]\n"
     ]
    }
   ],
   "source": [
    "# Количество неудач и попаданий в нашей модели\n",
    "unique, counts = np.unique(data, return_counts=True)\n",
    "print(np.asarray((unique, counts)).T)"
   ]
  },
  {
   "cell_type": "markdown",
   "metadata": {},
   "source": [
    "### **БИНОМИАЛЬНОЕ РАСПРЕДЕЛЕНИЕ**\n",
    "\n",
    "распределение, при котором возможны только два исхода (успех или неудача, выигрыш или проигрыш) и вероятность успеха и неудачи одинакова для всех испытаний\n",
    "\n",
    "Результаты повторения нескольких независимых испытаний Бернулли (**процесса Бернулли**) будут следовать **биномиальному распределению**."
   ]
  },
  {
   "cell_type": "markdown",
   "metadata": {},
   "source": [
    "**Пример**\n",
    "\n",
    "Производитель гаджетов знает, что 20 % производимых им товаров — бракованные.\n",
    "\n",
    "Если он производит десять изделий в день, какова вероятность того, что не более двух из них бракованные?"
   ]
  },
  {
   "cell_type": "code",
   "execution_count": 10,
   "metadata": {},
   "outputs": [
    {
     "data": {
      "text/plain": [
       "0.6777995264"
      ]
     },
     "execution_count": 10,
     "metadata": {},
     "output_type": "execute_result"
    }
   ],
   "source": [
    "import scipy\n",
    "\n",
    "scipy.stats.binom.pmf(8,10,0.8)+scipy.stats.binom.pmf(9,10,0.8)+scipy.stats.binom.pmf(10,10,0.8)"
   ]
  },
  {
   "cell_type": "code",
   "execution_count": 11,
   "metadata": {},
   "outputs": [
    {
     "name": "stderr",
     "output_type": "stream",
     "text": [
      "C:\\Users\\LENOVO\\AppData\\Roaming\\Python\\Python39\\site-packages\\seaborn\\axisgrid.py:118: UserWarning: The figure layout has changed to tight\n",
      "  self._figure.tight_layout(*args, **kwargs)\n"
     ]
    },
    {
     "data": {
      "image/png": "[encoded data removed]",
      "text/plain": [
       "<Figure size 500x500 with 1 Axes>"
      ]
     },
     "metadata": {},
     "output_type": "display_data"
    }
   ],
   "source": [
    "# Смоделируем биноминальное распределение с параметром p = 0.5 из 10 испытаний и на 1000 попыток\n",
    "\n",
    "from numpy import random\n",
    "\n",
    "x = random.binomial(n=10, p=0.5, size=10)\n",
    "\n",
    "sns.displot(random.binomial(n=10, p=0.5, size=1000));"
   ]
  },
  {
   "cell_type": "markdown",
   "metadata": {},
   "source": [
    "### **РАСПРЕДЕЛЕНИЕ ПУАССОНА**\n",
    "\n",
    "распределение вероятностей числа событий, происходящих в данный период времени, с учётом среднего количества раз, когда событие происходит за этот период времени"
   ]
  },
  {
   "cell_type": "markdown",
   "metadata": {},
   "source": [
    "**Пример**\n",
    "\n",
    "Колл-центр получает в среднем 4.5 звонка за каждые пять минут. Каждый оператор может обработать один из этих вызовов в течение пяти минут. Если вызов получен, но оператор  не может его принять, то вызывающий абонент будет переведён в режим ожидания ответа.\n",
    "\n",
    "Если вызовы следуют распределению Пуассона, какое минимальное количество операторов необходимо колл-центру, чтобы вероятность попадания вызова на удержание была не более 0.1?"
   ]
  },
  {
   "cell_type": "code",
   "execution_count": 16,
   "metadata": {},
   "outputs": [
    {
     "data": {
      "text/plain": [
       "0.09921753162215541"
      ]
     },
     "execution_count": 16,
     "metadata": {},
     "output_type": "execute_result"
    }
   ],
   "source": [
    "# Для пяти операторов\n",
    "scipy.stats.distributions.poisson.pmf(16, 16)"
   ]
  },
  {
   "cell_type": "code",
   "execution_count": 13,
   "metadata": {},
   "outputs": [
    {
     "name": "stderr",
     "output_type": "stream",
     "text": [
      "C:\\Users\\LENOVO\\AppData\\Roaming\\Python\\Python39\\site-packages\\seaborn\\axisgrid.py:118: UserWarning: The figure layout has changed to tight\n",
      "  self._figure.tight_layout(*args, **kwargs)\n"
     ]
    },
    {
     "data": {
      "text/plain": [
       "<seaborn.axisgrid.FacetGrid at 0x29ccb2a6490>"
      ]
     },
     "execution_count": 13,
     "metadata": {},
     "output_type": "execute_result"
    },
    {
     "data": {
      "image/png": "[encoded data removed]",
      "text/plain": [
       "<Figure size 500x500 with 1 Axes>"
      ]
     },
     "metadata": {},
     "output_type": "display_data"
    }
   ],
   "source": [
    "# Смоделируем распределение Пуассона на 1000 реализаций случайной величины с дисперсией 3\n",
    "sns.displot(random.poisson(lam=3, size=1000), kde=False)"
   ]
  }
 ],
 "metadata": {
  "kernelspec": {
   "display_name": "Python 3",
   "language": "python",
   "name": "python3"
  },
  "language_info": {
   "codemirror_mode": {
    "name": "ipython",
    "version": 3
   },
   "file_extension": ".py",
   "mimetype": "text/x-python",
   "name": "python",
   "nbconvert_exporter": "python",
   "pygments_lexer": "ipython3",
   "version": "3.9.12"
  }
 },
 "nbformat": 4,
 "nbformat_minor": 2
}
