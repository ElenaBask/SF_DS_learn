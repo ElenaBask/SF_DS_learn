{
 "cells": [
  {
   "cell_type": "code",
   "execution_count": 106,
   "metadata": {},
   "outputs": [],
   "source": [
    "from sympy import symbols, diff, solve, Symbol, Matrix\n",
    "from sympy.abc import x, y\n",
    "\n",
    "from scipy.optimize import newton, minimize, linprog\n",
    "\n",
    "import numpy as np\n",
    "import cvxpy\n",
    "from pulp import *"
   ]
  },
  {
   "cell_type": "markdown",
   "metadata": {},
   "source": [
    "# **Метод Ньютона**"
   ]
  },
  {
   "cell_type": "markdown",
   "metadata": {},
   "source": [
    "### Поиск корней уравнения"
   ]
  },
  {
   "cell_type": "markdown",
   "metadata": {},
   "source": [
    "**Задание 3.1**\n",
    "\n",
    "Найдите третий корень полинома $f(x) = 6x^5 - 5x^4 - 4x^3 +3x^2$, взяв за точку старта 0.7. Введите получившееся значение с точностью до трёх знаков после точки-разделителя."
   ]
  },
  {
   "cell_type": "code",
   "execution_count": 2,
   "metadata": {},
   "outputs": [],
   "source": [
    "def func_x(x):\n",
    "    return 6*x**5 - 5*x**4 - 4*x**3 +3*x**2\n",
    "\n",
    "def diff_x(x):\n",
    "    return 30*x**4 - 20*x**3 - 12*x**2 + 6*x"
   ]
  },
  {
   "cell_type": "code",
   "execution_count": 3,
   "metadata": {},
   "outputs": [
    {
     "name": "stdout",
     "output_type": "stream",
     "text": [
      "1   0.7   0.63 -0.0012133284487552132\n",
      "2   0.63   0.629 -1.3785387997788945e-06\n",
      "3   0.629   0.629 -1.8043344596208044e-12\n"
     ]
    }
   ],
   "source": [
    "x0 = 0.7\n",
    "x_cur = x0\n",
    "i = 1\n",
    "while abs(func_x(x_cur)) > 0.00000001:\n",
    "    x_new = x_cur - func_x(x_cur)/diff_x(x_cur)\n",
    "    print(i, ' ', round(x_cur, 3), ' ', round(x_new, 3), func_x(x_new))\n",
    "    x_cur = x_new\n",
    "    i += 1"
   ]
  },
  {
   "cell_type": "markdown",
   "metadata": {},
   "source": [
    "### Оптимизация функции"
   ]
  },
  {
   "cell_type": "markdown",
   "metadata": {},
   "source": [
    "#### Дана функция $f(x) = x^3 - 3x^2 - 45x + 40$"
   ]
  },
  {
   "cell_type": "code",
   "execution_count": 7,
   "metadata": {},
   "outputs": [
    {
     "data": {
      "text/latex": [
       "$\\displaystyle 3 x^{2} - 6 x - 45$"
      ],
      "text/plain": [
       "3*x**2 - 6*x - 45"
      ]
     },
     "metadata": {},
     "output_type": "display_data"
    },
    {
     "data": {
      "text/latex": [
       "$\\displaystyle 6 \\left(x - 1\\right)$"
      ],
      "text/plain": [
       "6*(x - 1)"
      ]
     },
     "metadata": {},
     "output_type": "display_data"
    }
   ],
   "source": [
    "f = x**3 - 3*x**2 - 45*x + 40\n",
    "display(f.diff(x))\n",
    "display(f.diff(x, 2))"
   ]
  },
  {
   "cell_type": "code",
   "execution_count": 8,
   "metadata": {},
   "outputs": [],
   "source": [
    "def func1(x):\n",
    "    return 3*x**2 - 6*x -45\n",
    "def func2(x):\n",
    "    return 6*x - 6"
   ]
  },
  {
   "cell_type": "code",
   "execution_count": 9,
   "metadata": {},
   "outputs": [
    {
     "name": "stdout",
     "output_type": "stream",
     "text": [
      "21.695121951219512\n",
      "11.734125501243229\n",
      "7.1123493600499685\n",
      "5.365000391507974\n",
      "5.015260627016227\n",
      "5.000029000201801\n",
      "5.000000000105126\n",
      "5.000000000000001\n"
     ]
    }
   ],
   "source": [
    "initial_value = 42\n",
    "iter_count = 0\n",
    "x_curr = initial_value\n",
    "epsilon = 0.0001\n",
    "f = func1(x_curr)\n",
    "\n",
    "while (abs(f) > epsilon):\n",
    "    f = func1(x_curr)\n",
    "    f_prime = func2(x_curr)\n",
    "    x_curr = x_curr - (f)/(f_prime)\n",
    "    iter_count += 1\n",
    "    print(x_curr)"
   ]
  },
  {
   "cell_type": "markdown",
   "metadata": {},
   "source": [
    "#### Можно объединить всё в одну функцию"
   ]
  },
  {
   "cell_type": "code",
   "execution_count": 10,
   "metadata": {},
   "outputs": [
    {
     "data": {
      "text/plain": [
       "5.0"
      ]
     },
     "execution_count": 10,
     "metadata": {},
     "output_type": "execute_result"
    }
   ],
   "source": [
    "def newtons_method(f, fprime, x0, tol=0.0001):\n",
    "    iter_count = 0\n",
    "    x_curr = x0\n",
    "    f_val = f(x_curr)\n",
    "    while (abs(f_val) > tol):\n",
    "        f_val = f(x_curr)\n",
    "        f_prime_val = fprime(x_curr)\n",
    "        x_curr = x_curr - (f_val)/(f_prime_val)\n",
    "        iter_count += 1\n",
    "    return x_curr\n",
    "\n",
    "newtons_method(f=func1, fprime=func2, x0=50, tol=0.0001)"
   ]
  },
  {
   "cell_type": "markdown",
   "metadata": {},
   "source": [
    "#### можно воспользоваться реализацией из библиотеки scipy"
   ]
  },
  {
   "cell_type": "code",
   "execution_count": 12,
   "metadata": {},
   "outputs": [
    {
     "data": {
      "text/plain": [
       "5.0"
      ]
     },
     "execution_count": 12,
     "metadata": {},
     "output_type": "execute_result"
    }
   ],
   "source": [
    "newton(func=func1, fprime=func2, x0=50, tol=0.0001)"
   ]
  },
  {
   "cell_type": "markdown",
   "metadata": {},
   "source": [
    "## **NB: Метод Ньютона стоит применять только для задач, в которых целевая функция выпуклая**"
   ]
  },
  {
   "cell_type": "markdown",
   "metadata": {},
   "source": [
    "**Задание 3.6**\n",
    "\n",
    "Дана функция $f(x) = x^3-72x-220$. Найдите решение уравнения $f(x) = 0$ для поиска корня в окрестностях точки $x_0=12$"
   ]
  },
  {
   "cell_type": "code",
   "execution_count": 15,
   "metadata": {},
   "outputs": [
    {
     "data": {
      "text/plain": [
       "9.727"
      ]
     },
     "execution_count": 15,
     "metadata": {},
     "output_type": "execute_result"
    }
   ],
   "source": [
    "def f_3_6(x):\n",
    "    return x**3 - 72*x - 220\n",
    "\n",
    "def fx_3_6(x):\n",
    "    return 3*x**2 - 72\n",
    "\n",
    "round(newton(func=f_3_6, fprime=fx_3_6, x0=12, tol=0.00001), 3)"
   ]
  },
  {
   "cell_type": "markdown",
   "metadata": {},
   "source": [
    "**Задание 3.7**\n",
    "\n",
    "Найдите положительный корень для уравнения $x^2+9x-5 = 0$.\n",
    "\n",
    "В качестве стартовой точки возьмите $x_0=2.2$."
   ]
  },
  {
   "cell_type": "code",
   "execution_count": 17,
   "metadata": {},
   "outputs": [
    {
     "name": "stdout",
     "output_type": "stream",
     "text": [
      "0.52\n"
     ]
    }
   ],
   "source": [
    "def f_3_7(x):\n",
    "    return x**2 + 9*x - 5\n",
    "\n",
    "def fx_3_7(x):\n",
    "    return 2*x + 9\n",
    "res = newton(func=f_3_7, fprime=fx_3_7, x0=2.2, tol=0.00001)\n",
    "if res > 0:\n",
    "    print(round(res, 2))"
   ]
  },
  {
   "cell_type": "markdown",
   "metadata": {},
   "source": [
    "**Задание 3.9**\n",
    "\n",
    "С помощью метода Ньютона найдите точку минимума для функции $f(x)=8x^3-2x^2-450$.\n",
    "\n",
    "В качестве стартовой точки возьмите $42$, точность примите за $0.0001$."
   ]
  },
  {
   "cell_type": "code",
   "execution_count": 47,
   "metadata": {},
   "outputs": [],
   "source": [
    "x = Symbol('x')\n",
    "f_3_8 = 8*x**3-2*x**2-450\n",
    "fx_3_8 = f_3_8.diff(x)\n",
    "fxx_3_8 = f_3_8.diff(x, 2)"
   ]
  },
  {
   "cell_type": "code",
   "execution_count": 48,
   "metadata": {},
   "outputs": [],
   "source": [
    "def dpime(x1):\n",
    "    return fx_3_8.subs({x: x1})\n",
    "\n",
    "def dsec(x2):\n",
    "    return fxx_3_8.subs({x: x2})"
   ]
  },
  {
   "cell_type": "code",
   "execution_count": 41,
   "metadata": {},
   "outputs": [
    {
     "name": "stdout",
     "output_type": "stream",
     "text": [
      "42\n"
     ]
    },
    {
     "data": {
      "text/latex": [
       "$\\displaystyle 24 x^{2} - 4 x$"
      ],
      "text/plain": [
       "24*x**2 - 4*x"
      ]
     },
     "execution_count": 41,
     "metadata": {},
     "output_type": "execute_result"
    }
   ],
   "source": [
    "dpime()"
   ]
  },
  {
   "cell_type": "code",
   "execution_count": 25,
   "metadata": {},
   "outputs": [
    {
     "data": {
      "text/latex": [
       "$\\displaystyle 42168$"
      ],
      "text/plain": [
       "42168"
      ]
     },
     "execution_count": 25,
     "metadata": {},
     "output_type": "execute_result"
    }
   ],
   "source": [
    "fx_3_8.subs({x: 42})"
   ]
  },
  {
   "cell_type": "code",
   "execution_count": 49,
   "metadata": {},
   "outputs": [
    {
     "name": "stdout",
     "output_type": "stream",
     "text": [
      "0.167\n"
     ]
    }
   ],
   "source": [
    "x_cur = 42\n",
    "eps = 0.0001\n",
    "\n",
    "while dpime(x_cur) > eps:\n",
    "    x_cur = x_cur - dpime(x_cur)/dsec(x_cur)\n",
    "\n",
    "print(round(x_cur, 3))"
   ]
  },
  {
   "cell_type": "markdown",
   "metadata": {},
   "source": [
    "# **Квазиньютоновские методы**"
   ]
  },
  {
   "cell_type": "markdown",
   "metadata": {},
   "source": [
    "## Cхема Бройдена — Флетчера — Гольдфарба — Шанно (BFGS)\n",
    "\n",
    "Cамая известная, стабильная и наиболее эффективная схема апроксимации гессина, созданная Чарли Джорджем Бройденом, Роджером Флетчером, Дональдом Гольдфарбом и Дэвидом Шанно.\n",
    "\n",
    "У этой схемы есть две известных вариации:\n",
    "\n",
    "- **L-BFGS**\n",
    "- **L-BFGS-B**"
   ]
  },
  {
   "cell_type": "markdown",
   "metadata": {},
   "source": [
    "**Пример 1**\n",
    "\n",
    "Будем искать экстремум для функции следующего вида:\n",
    "\n",
    "$f(x,y)=x^2-xy+y^2+9x-6y+20$\n",
    "\n",
    "В качестве начальной точки выберем $x_0=(1,1)$, а точность - $0.001$"
   ]
  },
  {
   "cell_type": "code",
   "execution_count": 55,
   "metadata": {},
   "outputs": [],
   "source": [
    "f = x**2 - x*y + y**2 + 9*x - 6*y + 20\n",
    "fx = f.diff(x)\n",
    "fy = f.diff(y)\n",
    "df = Matrix([fx, fy])"
   ]
  },
  {
   "cell_type": "code",
   "execution_count": 62,
   "metadata": {},
   "outputs": [
    {
     "data": {
      "text/latex": [
       "$\\displaystyle - x + 2 y - 6$"
      ],
      "text/plain": [
       "-x + 2*y - 6"
      ]
     },
     "execution_count": 62,
     "metadata": {},
     "output_type": "execute_result"
    }
   ],
   "source": [
    "fy"
   ]
  },
  {
   "cell_type": "code",
   "execution_count": 57,
   "metadata": {},
   "outputs": [
    {
     "data": {
      "text/latex": [
       "$\\displaystyle 5 \\sqrt{5}$"
      ],
      "text/plain": [
       "5*sqrt(5)"
      ]
     },
     "execution_count": 57,
     "metadata": {},
     "output_type": "execute_result"
    }
   ],
   "source": [
    "df.subs({x: 1, y: 1}).norm()"
   ]
  },
  {
   "cell_type": "markdown",
   "metadata": {},
   "source": [
    "**Пример 2**\n",
    "\n",
    "Оптимизация функции $f(x,y)=x^2+y^2$"
   ]
  },
  {
   "cell_type": "markdown",
   "metadata": {},
   "source": [
    "#### BFGS"
   ]
  },
  {
   "cell_type": "code",
   "execution_count": 59,
   "metadata": {},
   "outputs": [
    {
     "name": "stdout",
     "output_type": "stream",
     "text": [
      "Статус оптимизации Optimization terminated successfully.\n",
      "Количество оценок: 3\n",
      "Решение: f([0. 0.]) = 0.00000\n"
     ]
    }
   ],
   "source": [
    "# Определим функцию, которую будем оптимизировать. Вместо отдельных  и  можно взять координаты единого вектора:\n",
    "def func(x):\n",
    "    return x[0]**2.0 + x[1]**2.0\n",
    "\n",
    "# Jпределим градиент для функции:\n",
    "def grad_func(x):\n",
    "    return np.array([x[0] * 2, x[1] * 2])\n",
    "\n",
    "# Задаём начальную точку\n",
    "x_0 = [1.0, 1.0]\n",
    "\n",
    "# Определяем алгоритм\n",
    "result = minimize(func, x_0, method='BFGS', jac=grad_func)\n",
    "\n",
    "# Выводим результаты\n",
    "print('Статус оптимизации %s' % result['message'])\n",
    "print('Количество оценок: %d' % result['nfev'])\n",
    "solution = result['x']\n",
    "evaluation = func(solution)\n",
    "print('Решение: f(%s) = %.5f' % (solution, evaluation))"
   ]
  },
  {
   "cell_type": "markdown",
   "metadata": {},
   "source": [
    "#### L-BFGS-B"
   ]
  },
  {
   "cell_type": "code",
   "execution_count": 60,
   "metadata": {},
   "outputs": [
    {
     "name": "stdout",
     "output_type": "stream",
     "text": [
      "Статус оптимизации CONVERGENCE: NORM_OF_PROJECTED_GRADIENT_<=_PGTOL\n",
      "Количество оценок: 3\n",
      "Решение: f([0. 0.]) = 0.00000\n"
     ]
    }
   ],
   "source": [
    "# определяем нашу функцию\n",
    "def func(x):\n",
    "    return x[0]**2.0 + x[1]**2.0\n",
    " \n",
    "#  определяем градиент функции\n",
    "def grad_func(x):\n",
    "    return np.array([x[0] * 2, x[1] * 2])\n",
    " \n",
    "# определяем начальную точку\n",
    "x_0 = [1, 1]\n",
    "# реализуем алгоритм L-BFGS-B\n",
    "result = minimize(func, x_0, method='L-BFGS-B', jac=grad_func)\n",
    "# получаем результат\n",
    "print('Статус оптимизации %s' % result['message'])\n",
    "print('Количество оценок: %d' % result['nfev'])\n",
    "solution = result['x']\n",
    "evaluation = func(solution)\n",
    "print('Решение: f(%s) = %.5f' % (solution, evaluation))"
   ]
  },
  {
   "cell_type": "markdown",
   "metadata": {},
   "source": [
    "**Задание 4.1**\n",
    "\n",
    "Найдите точку минимума для функции $f(x,y)=x^2-xy+y^2+9x-6y+20$.\n",
    "\n",
    "В качестве стартовой возьмите точку $(-400, -400)$"
   ]
  },
  {
   "cell_type": "code",
   "execution_count": 68,
   "metadata": {},
   "outputs": [
    {
     "name": "stdout",
     "output_type": "stream",
     "text": [
      "Решение: f([-3.99999972  1.00000028]) = -1.00000\n"
     ]
    }
   ],
   "source": [
    "def f_4_1(x):\n",
    "    return x[0]**2 - x[0]*x[1] + x[1]**2 + 9*x[0] - 6*x[1] + 20\n",
    "\n",
    "def g_4_1(x):\n",
    "    return np.array([2*x[0] - x[1] + 9, -x[0] + 2*x[1] - 6])\n",
    "\n",
    "x_0 = [-400, -400]\n",
    "res_4_1 = minimize(f_4_1, x_0, method='L-BFGS-B', jac=g_4_1)\n",
    "\n",
    "solution = res_4_1['x']\n",
    "evaluation = f_4_1(solution)\n",
    "print('Решение: f(%s) = %.5f' % (solution, evaluation))"
   ]
  },
  {
   "cell_type": "markdown",
   "metadata": {},
   "source": [
    "**Задание 4.4**\n",
    "\n",
    "Найдите минимум функции $f(x)=x^3-3x+45$ с помощью квазиньютоновского метода BFGS.\n",
    "\n",
    "В качестве стартовой точки возьмите $x=10$."
   ]
  },
  {
   "cell_type": "code",
   "execution_count": 90,
   "metadata": {},
   "outputs": [
    {
     "name": "stdout",
     "output_type": "stream",
     "text": [
      "Решение: f([1.5]) = 42.75000\n",
      "Статус оптимизации Optimization terminated successfully.\n",
      "Количество оценок: 5\n"
     ]
    },
    {
     "name": "stderr",
     "output_type": "stream",
     "text": [
      "C:\\Users\\LENOVO\\AppData\\Local\\Temp\\ipykernel_2432\\1125334339.py:12: DeprecationWarning: Conversion of an array with ndim > 0 to a scalar is deprecated, and will error in future. Ensure you extract a single element from your array before performing this operation. (Deprecated NumPy 1.25.)\n",
      "  print('Решение: f(%s) = %.5f' % (solution, evaluation))\n"
     ]
    }
   ],
   "source": [
    "def f_4_4(x):\n",
    "    return x**2 - 3*x + 45\n",
    "\n",
    "def g_4_4(x):\n",
    "    return np.array(2*x - 3)\n",
    "\n",
    "x_0 = 10\n",
    "res_4_4 = minimize(f_4_4, x_0, method='BFGS', jac=g_4_4)\n",
    "\n",
    "solution = res_4_4['x']\n",
    "evaluation = f_4_4(solution)\n",
    "print('Решение: f(%s) = %.5f' % (solution, evaluation))\n",
    "print('Статус оптимизации %s' % res_4_4['message'])\n",
    "print('Количество оценок: %d' % res_4_4['nfev'])"
   ]
  },
  {
   "cell_type": "markdown",
   "metadata": {},
   "source": [
    "**Задание 4.5**\n",
    "\n",
    "Оптимизировать функцию из задания 4.4 методом L-BFGS-B"
   ]
  },
  {
   "cell_type": "code",
   "execution_count": 74,
   "metadata": {},
   "outputs": [
    {
     "name": "stdout",
     "output_type": "stream",
     "text": [
      "Решение: f([1.5]) = 42.75000\n",
      "Статус оптимизации CONVERGENCE: NORM_OF_PROJECTED_GRADIENT_<=_PGTOL\n",
      "Количество оценок: 3\n"
     ]
    },
    {
     "name": "stderr",
     "output_type": "stream",
     "text": [
      "C:\\Users\\LENOVO\\AppData\\Local\\Temp\\ipykernel_2432\\2161491471.py:12: DeprecationWarning: Conversion of an array with ndim > 0 to a scalar is deprecated, and will error in future. Ensure you extract a single element from your array before performing this operation. (Deprecated NumPy 1.25.)\n",
      "  print('Решение: f(%s) = %.5f' % (solution, evaluation))\n"
     ]
    }
   ],
   "source": [
    "def f_4_5(x):\n",
    "    return x**2 - 3*x + 45\n",
    "\n",
    "def g_4_5(x):\n",
    "    return 2*x - 3\n",
    "\n",
    "x_0 = 10\n",
    "res_4_5 = minimize(f_4_5, x_0, method='L-BFGS-B', jac=g_4_5)\n",
    "\n",
    "solution = res_4_5['x']\n",
    "evaluation = f_4_5(solution)\n",
    "print('Решение: f(%s) = %.5f' % (solution, evaluation))\n",
    "print('Статус оптимизации %s' % res_4_5['message'])\n",
    "print('Количество оценок: %d' % res_4_5['nfev'])"
   ]
  },
  {
   "cell_type": "markdown",
   "metadata": {},
   "source": [
    "**Задание 4.7**\n",
    "\n",
    "Найдите минимум функции\n",
    "$$f(x,y)=x^4+6y^2+10$$\n",
    "взяв за стартовую точку $(100,100)$."
   ]
  },
  {
   "cell_type": "code",
   "execution_count": 87,
   "metadata": {},
   "outputs": [
    {
     "name": "stdout",
     "output_type": "stream",
     "text": [
      "Количество оценок BFGS: 37\n",
      "Количество оценок L-BFGS-B: 40\n",
      "Решение 10\n"
     ]
    }
   ],
   "source": [
    "def f_4_7(x):\n",
    "    return x[0]**4.0 + 6*x[1]**2.0 + 10\n",
    " \n",
    "def g_4_7(x):\n",
    "    return np.array([4*x[0]**3, 12*x[1]])\n",
    " \n",
    "x_0 = [100.0, 100.0]\n",
    "res_4_7_1 = minimize(f_4_7, x_0, method='BFGS', jac=g_4_7)\n",
    "res_4_7_2 = minimize(f_4_7, x_0, method='L-BFGS-B', jac=g_4_7)\n",
    "\n",
    "print('Количество оценок BFGS: %d' % res_4_7_1['nfev'])\n",
    "print('Количество оценок L-BFGS-B: %d' % res_4_7_2['nfev'])\n",
    "print(f'Решение {round(f_4_7(res_4_7_1[\"x\"]))}')"
   ]
  },
  {
   "cell_type": "markdown",
   "metadata": {},
   "source": [
    "# **Линейное программирование**"
   ]
  },
  {
   "cell_type": "markdown",
   "metadata": {},
   "source": [
    "**Пример 1** \n",
    "\n",
    "### SciPy (scipy.optimize.linprog)\n",
    "\n",
    "У нас есть 6 товаров с заданными ценами на них и заданной массой. Вместимость сумки, в которую мы можем положить товары, заранее известна и равна 15 кг. Какой товар и в каком объёме необходимо взять, чтобы сумма всех цен товаров была максимальной?"
   ]
  },
  {
   "cell_type": "code",
   "execution_count": 88,
   "metadata": {},
   "outputs": [],
   "source": [
    "values = [4, 2, 1, 7, 3, 6] #стоимости товаров\n",
    "weights = [5, 9, 8, 2, 6, 5] #вес товаров\n",
    "C = 15 #вместимость сумки\n",
    "n = 6 #количество товаров"
   ]
  },
  {
   "cell_type": "code",
   "execution_count": 92,
   "metadata": {},
   "outputs": [
    {
     "data": {
      "text/plain": [
       "        message: Optimization terminated successfully. (HiGHS Status 7: Optimal)\n",
       "        success: True\n",
       "         status: 0\n",
       "            fun: -52.5\n",
       "              x: [ 0.000e+00  0.000e+00  0.000e+00  7.500e+00  0.000e+00\n",
       "                   0.000e+00]\n",
       "            nit: 0\n",
       "          lower:  residual: [ 0.000e+00  0.000e+00  0.000e+00  7.500e+00\n",
       "                              0.000e+00  0.000e+00]\n",
       "                 marginals: [ 1.350e+01  2.950e+01  2.700e+01  0.000e+00\n",
       "                              1.800e+01  1.150e+01]\n",
       "          upper:  residual: [       inf        inf        inf        inf\n",
       "                                    inf        inf]\n",
       "                 marginals: [ 0.000e+00  0.000e+00  0.000e+00  0.000e+00\n",
       "                              0.000e+00  0.000e+00]\n",
       "          eqlin:  residual: []\n",
       "                 marginals: []\n",
       "        ineqlin:  residual: [ 0.000e+00]\n",
       "                 marginals: [-3.500e+00]\n",
       " mip_node_count: 0\n",
       " mip_dual_bound: 0.0\n",
       "        mip_gap: 0.0"
      ]
     },
     "execution_count": 92,
     "metadata": {},
     "output_type": "execute_result"
    }
   ],
   "source": [
    "c = - np.array(values) #изменяем знак, чтобы перейти от задачи максимизации к задаче минимизации\n",
    "A = np.array(weights)  #конвертируем список с весами в массив\n",
    "A = np.expand_dims(A, 0) #преобразуем размерность массива\n",
    "b = np.array([C]) #конвертируем вместимость в массив\n",
    "\n",
    "# Передаём подготовленные переменные в оптимизатор SciPy\n",
    "\n",
    "linprog(c=c, A_ub=A, b_ub=b)"
   ]
  },
  {
   "cell_type": "markdown",
   "metadata": {},
   "source": [
    "**Пример 2**\n",
    "\n",
    "### CVXPY\n",
    "\n",
    "Снова решим задачу из примера 1, но уже предположим, что товары нельзя дробить, и будем решать задачу целочисленного линейного программирования.\n",
    "SciPy не умеет решать такие задачи, поэтому будем использовать новую библиотеку CVXPY."
   ]
  },
  {
   "cell_type": "code",
   "execution_count": 99,
   "metadata": {},
   "outputs": [
    {
     "name": "stderr",
     "output_type": "stream",
     "text": [
      "C:\\Users\\LENOVO\\AppData\\Roaming\\Python\\Python39\\site-packages\\cvxpy\\expressions\\expression.py:621: UserWarning: \n",
      "This use of ``*`` has resulted in matrix multiplication.\n",
      "Using ``*`` for matrix multiplication has been deprecated since CVXPY 1.1.\n",
      "    Use ``*`` for matrix-scalar and vector-scalar multiplication.\n",
      "    Use ``@`` for matrix-matrix and matrix-vector multiplication.\n",
      "    Use ``multiply`` for elementwise multiplication.\n",
      "This code path has been hit 5 times so far.\n",
      "\n",
      "  warnings.warn(msg, UserWarning)\n"
     ]
    },
    {
     "data": {
      "text/plain": [
       "49.0"
      ]
     },
     "metadata": {},
     "output_type": "display_data"
    },
    {
     "data": {
      "text/plain": [
       "array([-0., -0., -0.,  7., -0.,  0.])"
      ]
     },
     "metadata": {},
     "output_type": "display_data"
    }
   ],
   "source": [
    "x = cvxpy.Variable(shape=n, integer=True) # только целое количество\n",
    "constraint = (A @ x <= b) # задаём ограничение по суммарному весу\n",
    "x_positive = (x >= 0) # указываем неотрицателньость количества\n",
    "total_value = c * x\n",
    "problem = cvxpy.Problem(cvxpy.Minimize(total_value), constraints=[constraint, x_positive])\n",
    "display(-problem.solve())\n",
    "display(x.value)"
   ]
  },
  {
   "cell_type": "code",
   "execution_count": 98,
   "metadata": {},
   "outputs": [
    {
     "name": "stderr",
     "output_type": "stream",
     "text": [
      "C:\\Users\\LENOVO\\AppData\\Roaming\\Python\\Python39\\site-packages\\cvxpy\\expressions\\expression.py:621: UserWarning: \n",
      "This use of ``*`` has resulted in matrix multiplication.\n",
      "Using ``*`` for matrix multiplication has been deprecated since CVXPY 1.1.\n",
      "    Use ``*`` for matrix-scalar and vector-scalar multiplication.\n",
      "    Use ``@`` for matrix-matrix and matrix-vector multiplication.\n",
      "    Use ``multiply`` for elementwise multiplication.\n",
      "This code path has been hit 4 times so far.\n",
      "\n",
      "  warnings.warn(msg, UserWarning)\n"
     ]
    },
    {
     "data": {
      "text/plain": [
       "17.0"
      ]
     },
     "metadata": {},
     "output_type": "display_data"
    },
    {
     "data": {
      "text/plain": [
       "array([1., 0., 0., 1., 0., 1.])"
      ]
     },
     "metadata": {},
     "output_type": "display_data"
    }
   ],
   "source": [
    "x = cvxpy.Variable(shape=n, boolean=True) # 0 или 1 - берём только один товар или не берём вовсе\n",
    "constraint = A @ x <= b\n",
    "x_positive = x >= 0\n",
    "total_value = c * x\n",
    "problem = cvxpy.Problem(cvxpy.Minimize(total_value), constraints=[constraint, x_positive])\n",
    "display(-problem.solve())\n",
    "display(x.value)"
   ]
  },
  {
   "cell_type": "markdown",
   "metadata": {},
   "source": [
    "**Пример 3**\n",
    "### PuLP\n",
    "\n",
    "В нашей каршеринговой компании две модели автомобилей: модель A и модель B. Автомобиль A даёт прибыль в размере 20 тысяч в месяц, а автомобиль B — 45 тысяч в месяц. Мы хотим заказать на заводе новые автомобили и максимизировать прибыль. Однако на производство и ввод в эксплуатацию автомобилей понадобится время:\n",
    "\n",
    "- Проектировщику требуется 4 дня, чтобы подготовить документы для производства каждого автомобиля типа A, и 5 дней — для каждого автомобиля типа B.\n",
    "- Заводу требуется 3 дня, чтобы изготовить модель A, и 6 дней, чтобы изготовить модель B.\n",
    "- Менеджеру требуется 2 дня, чтобы ввести в эксплуатацию в компании автомобиль A, и 7 дней —  автомобиль B.\n",
    "- Каждый специалист может работать суммарно 30 дней."
   ]
  },
  {
   "cell_type": "code",
   "execution_count": 108,
   "metadata": {},
   "outputs": [
    {
     "name": "stdout",
     "output_type": "stream",
     "text": [
      "Количество автомобилей модели А:  1.0\n",
      "Количество автомобилей модели В:  4.0\n",
      "Суммарный доход:  200000.0\n"
     ]
    }
   ],
   "source": [
    "problem = LpProblem('Производство_машин', LpMaximize)\n",
    "A = LpVariable('Автомобиль_A', lowBound=0 , cat=LpInteger)\n",
    "B = LpVariable('Автомобиль_B', lowBound=0 , cat=LpInteger)\n",
    "#Целевая функция\n",
    "problem += 20000*A + 45000*B \n",
    "#Ограничения\n",
    "problem += 4*A + 5*B <= 30 \n",
    "problem += 3*A + 6*B <=30\n",
    "problem += 2*A + 7*B <=30\n",
    "problem.solve()\n",
    "print(\"Количество автомобилей модели А: \", A.varValue)\n",
    "print(\"Количество автомобилей модели В: \", B.varValue)\n",
    "print(\"Суммарный доход: \", value(problem.objective))"
   ]
  },
  {
   "cell_type": "markdown",
   "metadata": {},
   "source": [
    "**Задание 6.1**\n",
    "\n",
    "Составьте оптимальный план перевозок со склада № 1 и склада № 2 в три торговых центра с учётом тарифов, запасов на складах и потребностей торговых центров, которые указаны в таблице:\n",
    "\n",
    "![](https://lms-cdn.skillfactory.ru/assets/courseware/v1/e92f1aca3294f87b96e30eed2471af02/asset-v1:SkillFactory+DST-3.0+28FEB2021+type@asset+block/MATHML_md6_6_1_1.png.png)"
   ]
  }
 ],
 "metadata": {
  "kernelspec": {
   "display_name": "Python 3",
   "language": "python",
   "name": "python3"
  },
  "language_info": {
   "codemirror_mode": {
    "name": "ipython",
    "version": 3
   },
   "file_extension": ".py",
   "mimetype": "text/x-python",
   "name": "python",
   "nbconvert_exporter": "python",
   "pygments_lexer": "ipython3",
   "version": "3.9.12"
  }
 },
 "nbformat": 4,
 "nbformat_minor": 2
}
