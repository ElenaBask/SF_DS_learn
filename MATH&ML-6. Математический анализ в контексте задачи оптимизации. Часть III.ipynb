{
 "cells": [
  {
   "cell_type": "markdown",
   "metadata": {},
   "source": [
    "**Задание 3.1**\n",
    "\n",
    "Найдите третий корень полинома $f(x) = 6x^5 - 5x^4 - 4x^3 +3x^2$, взяв за точку старта 0.7. Введите получившееся значение с точностью до трёх знаков после точки-разделителя."
   ]
  },
  {
   "cell_type": "code",
   "execution_count": 1,
   "metadata": {},
   "outputs": [],
   "source": [
    "def func_x(x):\n",
    "    return 6*x**5 - 5*x**4 - 4*x**3 +3*x**2\n",
    "\n",
    "def diff_x(x):\n",
    "    return 30*x**4 - 20*x**3 - 12*x**2 + 6*x"
   ]
  },
  {
   "cell_type": "code",
   "execution_count": 5,
   "metadata": {},
   "outputs": [
    {
     "name": "stdout",
     "output_type": "stream",
     "text": [
      "1   0.7   0.63 -0.0012133284487552132\n",
      "2   0.63   0.629 -1.3785387997788945e-06\n"
     ]
    }
   ],
   "source": [
    "x0 = 0.7\n",
    "x_cur = x0\n",
    "i = 1\n",
    "while abs(func_x(x_cur)) > 0.00001:\n",
    "    x_new = x_cur - func_x(x_cur)/diff_x(x_cur)\n",
    "    print(i, ' ', round(x_cur, 3), ' ', round(x_new, 3), func_x(x_new))\n",
    "    x_cur = x_new\n",
    "    i += 1"
   ]
  }
 ],
 "metadata": {
  "kernelspec": {
   "display_name": "Python 3",
   "language": "python",
   "name": "python3"
  },
  "language_info": {
   "codemirror_mode": {
    "name": "ipython",
    "version": 3
   },
   "file_extension": ".py",
   "mimetype": "text/x-python",
   "name": "python",
   "nbconvert_exporter": "python",
   "pygments_lexer": "ipython3",
   "version": "3.9.12"
  }
 },
 "nbformat": 4,
 "nbformat_minor": 2
}
