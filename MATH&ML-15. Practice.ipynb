{
 "cells": [
  {
   "cell_type": "code",
   "execution_count": 66,
   "metadata": {},
   "outputs": [],
   "source": [
    "import pandas as pd\n",
    "import numpy as np\n",
    "import math\n",
    "\n",
    "from sklearn.model_selection import train_test_split\n",
    "\n",
    "from scipy.linalg import svd\n",
    "from scipy.sparse import csr_matrix\n",
    "\n",
    "from warnings import filterwarnings\n",
    "filterwarnings(\"ignore\")"
   ]
  },
  {
   "cell_type": "code",
   "execution_count": 6,
   "metadata": {},
   "outputs": [],
   "source": [
    "articles_df = pd.read_csv('https://lms-cdn.skillfactory.ru/assets/courseware/v1/9f0e8eb4ddd03415fdd4db4a89a2b0d3/asset-v1:SkillFactory+DST-3.0+28FEB2021+type@asset+block/shared_articles.zip')\n",
    "interactions_df = pd.read_csv('https://lms-cdn.skillfactory.ru/assets/courseware/v1/186647c8bd3fdb43b78fbc84ace97aed/asset-v1:SkillFactory+DST-3.0+28FEB2021+type@asset+block/users_interactions.zip')\n",
    "articles_df = articles_df[articles_df['eventType'] == 'CONTENT SHARED']"
   ]
  },
  {
   "cell_type": "code",
   "execution_count": 7,
   "metadata": {},
   "outputs": [],
   "source": [
    "interactions_df.personId = interactions_df.personId.astype(str)\n",
    "interactions_df.contentId = interactions_df.contentId.astype(str)\n",
    "articles_df.contentId = articles_df.contentId.astype(str)"
   ]
  },
  {
   "cell_type": "code",
   "execution_count": 8,
   "metadata": {},
   "outputs": [],
   "source": [
    "event_type_strength = {\n",
    "   'VIEW': 1.0,\n",
    "   'LIKE': 2.0, \n",
    "   'BOOKMARK': 2.5, \n",
    "   'FOLLOW': 3.0,\n",
    "   'COMMENT CREATED': 4.0,  \n",
    "}"
   ]
  },
  {
   "cell_type": "code",
   "execution_count": 9,
   "metadata": {},
   "outputs": [],
   "source": [
    "interactions_df['eventStrength'] = interactions_df.eventType.apply(lambda x: event_type_strength[x])"
   ]
  },
  {
   "cell_type": "code",
   "execution_count": 10,
   "metadata": {},
   "outputs": [],
   "source": [
    "users_interactions_count_df = (\n",
    "    interactions_df\n",
    "    .groupby(['personId', 'contentId'])\n",
    "    .first()\n",
    "    .reset_index()\n",
    "    .groupby('personId').size())\n",
    "\n",
    "users_with_enough_interactions_df = \\\n",
    "    users_interactions_count_df[users_interactions_count_df >= 5].reset_index()[['personId']]"
   ]
  },
  {
   "cell_type": "code",
   "execution_count": 11,
   "metadata": {},
   "outputs": [],
   "source": [
    "interactions_from_selected_users_df = interactions_df.loc[np.in1d(interactions_df.personId,\n",
    "            users_with_enough_interactions_df)]"
   ]
  },
  {
   "cell_type": "code",
   "execution_count": 12,
   "metadata": {},
   "outputs": [],
   "source": [
    "def smooth_user_preference(x):\n",
    "    return math.log(1+x, 2)\n",
    "    \n",
    "interactions_full_df = (\n",
    "    interactions_from_selected_users_df\n",
    "    .groupby(['personId', 'contentId']).eventStrength.sum()\n",
    "    .apply(smooth_user_preference)\n",
    "    .reset_index().set_index(['personId', 'contentId'])\n",
    ")\n",
    "interactions_full_df['last_timestamp'] = (\n",
    "    interactions_from_selected_users_df\n",
    "    .groupby(['personId', 'contentId'])['timestamp'].max()\n",
    ")\n",
    "        \n",
    "interactions_full_df = interactions_full_df.reset_index()"
   ]
  },
  {
   "cell_type": "code",
   "execution_count": 13,
   "metadata": {},
   "outputs": [],
   "source": [
    "split_ts = 1475519545\n",
    "interactions_train_df = interactions_full_df.loc[interactions_full_df.last_timestamp < split_ts].copy()\n",
    "interactions_test_df = interactions_full_df.loc[interactions_full_df.last_timestamp >= split_ts].copy()\n"
   ]
  },
  {
   "cell_type": "markdown",
   "metadata": {},
   "source": [
    "**Задание 6.1**\n",
    "\n",
    "Найдите оценку взаимодействия пользователя с ID -1032019229384696495 со статьёй с ID 943818026930898372. Результат округлите до двух знаков после точки-разделителя."
   ]
  },
  {
   "cell_type": "code",
   "execution_count": 14,
   "metadata": {},
   "outputs": [
    {
     "data": {
      "text/plain": [
       "2.32"
      ]
     },
     "execution_count": 14,
     "metadata": {},
     "output_type": "execute_result"
    }
   ],
   "source": [
    "ratings = pd.pivot_table(\n",
    "    interactions_train_df,\n",
    "    values=\"eventStrength\",\n",
    "    index=\"personId\",\n",
    "    columns=\"contentId\",\n",
    ").fillna(0)\n",
    "round(ratings.loc[\"-1032019229384696495\", \"943818026930898372\"], 2)"
   ]
  },
  {
   "cell_type": "code",
   "execution_count": 25,
   "metadata": {},
   "outputs": [],
   "source": [
    "# Преобразуем датасет в массив Numpy для ускорения роботы\n",
    "ratings_np = ratings.to_numpy()"
   ]
  },
  {
   "cell_type": "markdown",
   "metadata": {},
   "source": [
    "**Задание 6.2**\n",
    "\n",
    "Найдите среднее арифметическое всех чисел в получившемся массиве. Результат округлите до трёх знаков после точки-разделителя."
   ]
  },
  {
   "cell_type": "code",
   "execution_count": 30,
   "metadata": {},
   "outputs": [
    {
     "data": {
      "text/plain": [
       "0.017"
      ]
     },
     "execution_count": 30,
     "metadata": {},
     "output_type": "execute_result"
    }
   ],
   "source": [
    "ratings_np.mean().round(3)"
   ]
  },
  {
   "cell_type": "markdown",
   "metadata": {},
   "source": [
    "**Задание 6.3**\n",
    "\n",
    "Постройте матрицу схожести. Для этого вычислите все попарные коэффициенты корреляции для матрицы, полученной в предыдущем задании. Для каждой пары учитывайте только ненулевые значения (так как нулевые обозначают отсутствие взаимодействия и не интересуют нас). Выведите результат, полученный в ячейке с третьим индексом по строкам и сороковым — по столбцам.\n",
    "\n"
   ]
  },
  {
   "cell_type": "code",
   "execution_count": 34,
   "metadata": {},
   "outputs": [
    {
     "data": {
      "text/plain": [
       "-0.33"
      ]
     },
     "execution_count": 34,
     "metadata": {},
     "output_type": "execute_result"
    }
   ],
   "source": [
    "similarity_users = np.zeros((len(ratings_np), len(ratings_np)))\n",
    "for i in (range(len(ratings_np)-1)):\n",
    "    for j in range(i+1, len(ratings_np)):\n",
    "     \n",
    "        mask_uv = (ratings_np[i] != 0) & (ratings_np[j] != 0)\n",
    "        ratings_v = ratings_np[i, mask_uv]\n",
    "        ratings_u = ratings_np[j, mask_uv]\n",
    "\n",
    "        similarity_users[i,j] = np.corrcoef(ratings_v, ratings_u)[0, 1]\n",
    "        similarity_users[j,i] = similarity_users[i,j]\n",
    "\n",
    "similarity_users[3,40].round(2)"
   ]
  },
  {
   "cell_type": "markdown",
   "metadata": {},
   "source": [
    "**Задание 6.4**\n",
    "\n",
    "Постройте рекомендательную систему по алгоритму (для каждого пользователя):\n",
    "1. Найти пользователей с похожестью больше 0.\n",
    "2. Для каждой статьи вычислить долю пользователей (среди выделенных на первом шаге), которые взаимодействовали со статьёй.\n",
    "3. Порекомендовать статьи (не более 10) с наибольшими долями со второго шага (среди тех, которые пользователь ещё не видел). описанному выше. \n",
    "\n",
    "Найдите первую рекомендацию для строки 35 (если считать с нуля)."
   ]
  },
  {
   "cell_type": "code",
   "execution_count": 44,
   "metadata": {},
   "outputs": [
    {
     "data": {
      "text/plain": [
       "'-5148591903395022444'"
      ]
     },
     "execution_count": 44,
     "metadata": {},
     "output_type": "execute_result"
    }
   ],
   "source": [
    "interactions = (\n",
    "    interactions_train_df\n",
    "    .groupby('personId')['contentId'].agg(lambda x: list(x))\n",
    "    .reset_index()\n",
    "    .rename(columns={'contentId': 'true_train'})\n",
    "    .set_index('personId')\n",
    ")\n",
    " \n",
    "interactions['true_test'] = (\n",
    "    interactions_test_df\n",
    "    .groupby('personId')['contentId'].agg(lambda x: list(x))\n",
    ")\n",
    " \n",
    "interactions['true_test'] = [ [] if x is np.NaN else x for x in interactions['true_test'] ]\n",
    "\n",
    "prediction_user_based = []\n",
    "for i in range(len(similarity_users)):\n",
    "    users_sim = similarity_users[i] > 0\n",
    "    if not any(users_sim):\n",
    "        prediction_user_based.append([])\n",
    "    else:\n",
    "        tmp_recommend = np.argsort(ratings_np[users_sim].sum(axis=0))[::-1]\n",
    "        tmp_recommend = ratings.columns[tmp_recommend]\n",
    "        recommend = np.array(tmp_recommend)[~np.in1d(tmp_recommend, interactions.iloc[i][\"true_train\"])][:10]\n",
    "        prediction_user_based.append(list(recommend))\n",
    "interactions['prediction_user_based'] = prediction_user_based\n",
    "\n",
    "prediction_user_based[35][0]"
   ]
  },
  {
   "cell_type": "code",
   "execution_count": 45,
   "metadata": {},
   "outputs": [],
   "source": [
    "def calc_precision(column):\n",
    "    return ( interactions.apply(  lambda row:len(set(row['true_test']).intersection(\n",
    "                set(row[column]))) /min(len(row['true_test']) + 0.001, 10.0), axis=1)).mean()"
   ]
  },
  {
   "cell_type": "markdown",
   "metadata": {},
   "source": [
    "**Задание 6.5**\n",
    "\n",
    "Вычислите точность полученного предсказания. Ответ округлите до трёх знаков после точки-разделителя."
   ]
  },
  {
   "cell_type": "code",
   "execution_count": 46,
   "metadata": {},
   "outputs": [
    {
     "data": {
      "text/plain": [
       "0.005"
      ]
     },
     "execution_count": 46,
     "metadata": {},
     "output_type": "execute_result"
    }
   ],
   "source": [
    "calc_precision('prediction_user_based').round(3)"
   ]
  },
  {
   "cell_type": "markdown",
   "metadata": {},
   "source": [
    "**Задание 6.6**\n",
    "\n",
    "Теперь реализуем рекомендательную систему с использованием SVD.\n",
    "\n",
    "Разложите матрицу взаимодействий пользователей со статьями с помощью функции svd из модуля scipy. Найдите максимальное значение в получившейся матрице U. Результат округлите до двух знаков после точки-разделителя."
   ]
  },
  {
   "cell_type": "code",
   "execution_count": 50,
   "metadata": {},
   "outputs": [
    {
     "data": {
      "text/plain": [
       "0.71"
      ]
     },
     "execution_count": 50,
     "metadata": {},
     "output_type": "execute_result"
    }
   ],
   "source": [
    "U, sigma, V = svd(ratings)\n",
    "U.max().round(2)"
   ]
  },
  {
   "cell_type": "markdown",
   "metadata": {},
   "source": [
    "**Задание 6.7**\n",
    "\n",
    "Найдите сумму всех элементов в новой сингулярной матрице. Ответ округлите до двух знаков после точки-разделителя."
   ]
  },
  {
   "cell_type": "code",
   "execution_count": 60,
   "metadata": {},
   "outputs": [
    {
     "data": {
      "text/plain": [
       "2096.43"
      ]
     },
     "execution_count": 60,
     "metadata": {},
     "output_type": "execute_result"
    }
   ],
   "source": [
    "s = np.diag(sigma[:100])\n",
    "s.sum().round(2)"
   ]
  },
  {
   "cell_type": "code",
   "execution_count": 62,
   "metadata": {},
   "outputs": [
    {
     "data": {
      "text/html": [
       "<div>\n",
       "<style scoped>\n",
       "    .dataframe tbody tr th:only-of-type {\n",
       "        vertical-align: middle;\n",
       "    }\n",
       "\n",
       "    .dataframe tbody tr th {\n",
       "        vertical-align: top;\n",
       "    }\n",
       "\n",
       "    .dataframe thead th {\n",
       "        text-align: right;\n",
       "    }\n",
       "</style>\n",
       "<table border=\"1\" class=\"dataframe\">\n",
       "  <thead>\n",
       "    <tr style=\"text-align: right;\">\n",
       "      <th>contentId</th>\n",
       "      <th>-1006791494035379303</th>\n",
       "      <th>-1021685224930603833</th>\n",
       "      <th>-1022885988494278200</th>\n",
       "      <th>-1024046541613287684</th>\n",
       "      <th>-1033806831489252007</th>\n",
       "      <th>-1038011342017850</th>\n",
       "      <th>-1039912738963181810</th>\n",
       "      <th>-1046621686880462790</th>\n",
       "      <th>-1051830303851697653</th>\n",
       "      <th>-1055630159212837930</th>\n",
       "      <th>...</th>\n",
       "      <th>9217155070834564627</th>\n",
       "      <th>921770761777842242</th>\n",
       "      <th>9220445660318725468</th>\n",
       "      <th>9222265156747237864</th>\n",
       "      <th>943818026930898372</th>\n",
       "      <th>957332268361319692</th>\n",
       "      <th>966067567430037498</th>\n",
       "      <th>972258375127367383</th>\n",
       "      <th>980458131533897249</th>\n",
       "      <th>98528655405030624</th>\n",
       "    </tr>\n",
       "    <tr>\n",
       "      <th>personId</th>\n",
       "      <th></th>\n",
       "      <th></th>\n",
       "      <th></th>\n",
       "      <th></th>\n",
       "      <th></th>\n",
       "      <th></th>\n",
       "      <th></th>\n",
       "      <th></th>\n",
       "      <th></th>\n",
       "      <th></th>\n",
       "      <th></th>\n",
       "      <th></th>\n",
       "      <th></th>\n",
       "      <th></th>\n",
       "      <th></th>\n",
       "      <th></th>\n",
       "      <th></th>\n",
       "      <th></th>\n",
       "      <th></th>\n",
       "      <th></th>\n",
       "      <th></th>\n",
       "    </tr>\n",
       "  </thead>\n",
       "  <tbody>\n",
       "    <tr>\n",
       "      <th>-1007001694607905623</th>\n",
       "      <td>-0.003787</td>\n",
       "      <td>0.000872</td>\n",
       "      <td>-0.001285</td>\n",
       "      <td>0.002931</td>\n",
       "      <td>0.003889</td>\n",
       "      <td>0.013863</td>\n",
       "      <td>-0.001591</td>\n",
       "      <td>0.032587</td>\n",
       "      <td>-0.001272</td>\n",
       "      <td>0.000256</td>\n",
       "      <td>...</td>\n",
       "      <td>-0.003759</td>\n",
       "      <td>-0.000227</td>\n",
       "      <td>-0.008608</td>\n",
       "      <td>-0.000033</td>\n",
       "      <td>0.010733</td>\n",
       "      <td>0.009452</td>\n",
       "      <td>0.003438</td>\n",
       "      <td>-0.000179</td>\n",
       "      <td>0.009597</td>\n",
       "      <td>-0.002503</td>\n",
       "    </tr>\n",
       "    <tr>\n",
       "      <th>-1032019229384696495</th>\n",
       "      <td>0.992435</td>\n",
       "      <td>0.015898</td>\n",
       "      <td>0.030610</td>\n",
       "      <td>0.001633</td>\n",
       "      <td>0.012849</td>\n",
       "      <td>0.033984</td>\n",
       "      <td>1.013460</td>\n",
       "      <td>0.002882</td>\n",
       "      <td>0.010873</td>\n",
       "      <td>-0.004411</td>\n",
       "      <td>...</td>\n",
       "      <td>2.974838</td>\n",
       "      <td>0.007639</td>\n",
       "      <td>-0.020085</td>\n",
       "      <td>-0.004258</td>\n",
       "      <td>2.353326</td>\n",
       "      <td>-0.031199</td>\n",
       "      <td>0.033007</td>\n",
       "      <td>0.002056</td>\n",
       "      <td>-0.003534</td>\n",
       "      <td>0.009510</td>\n",
       "    </tr>\n",
       "    <tr>\n",
       "      <th>-108842214936804958</th>\n",
       "      <td>-0.015866</td>\n",
       "      <td>-0.029223</td>\n",
       "      <td>-0.032987</td>\n",
       "      <td>-0.012270</td>\n",
       "      <td>0.045642</td>\n",
       "      <td>0.015761</td>\n",
       "      <td>0.177709</td>\n",
       "      <td>0.014010</td>\n",
       "      <td>0.021468</td>\n",
       "      <td>-0.029695</td>\n",
       "      <td>...</td>\n",
       "      <td>0.134796</td>\n",
       "      <td>0.029271</td>\n",
       "      <td>-0.050596</td>\n",
       "      <td>-0.000277</td>\n",
       "      <td>-0.178115</td>\n",
       "      <td>-0.080439</td>\n",
       "      <td>1.891358</td>\n",
       "      <td>0.016009</td>\n",
       "      <td>0.003305</td>\n",
       "      <td>-0.017166</td>\n",
       "    </tr>\n",
       "    <tr>\n",
       "      <th>-1130272294246983140</th>\n",
       "      <td>0.166369</td>\n",
       "      <td>0.106842</td>\n",
       "      <td>0.223735</td>\n",
       "      <td>0.055399</td>\n",
       "      <td>-0.009947</td>\n",
       "      <td>-0.088267</td>\n",
       "      <td>0.004609</td>\n",
       "      <td>-0.070600</td>\n",
       "      <td>-0.039416</td>\n",
       "      <td>0.062143</td>\n",
       "      <td>...</td>\n",
       "      <td>0.042020</td>\n",
       "      <td>-0.058595</td>\n",
       "      <td>0.214094</td>\n",
       "      <td>-0.005800</td>\n",
       "      <td>1.156069</td>\n",
       "      <td>-0.176958</td>\n",
       "      <td>-0.020508</td>\n",
       "      <td>0.041146</td>\n",
       "      <td>-0.055612</td>\n",
       "      <td>0.017217</td>\n",
       "    </tr>\n",
       "    <tr>\n",
       "      <th>-1160159014793528221</th>\n",
       "      <td>0.011422</td>\n",
       "      <td>-0.002571</td>\n",
       "      <td>0.004961</td>\n",
       "      <td>-0.005116</td>\n",
       "      <td>-0.004820</td>\n",
       "      <td>-0.051882</td>\n",
       "      <td>-0.016217</td>\n",
       "      <td>0.000016</td>\n",
       "      <td>0.019629</td>\n",
       "      <td>-0.003028</td>\n",
       "      <td>...</td>\n",
       "      <td>-0.004893</td>\n",
       "      <td>0.008450</td>\n",
       "      <td>-0.024916</td>\n",
       "      <td>0.002783</td>\n",
       "      <td>-0.007486</td>\n",
       "      <td>0.035766</td>\n",
       "      <td>0.003191</td>\n",
       "      <td>0.000242</td>\n",
       "      <td>-0.034082</td>\n",
       "      <td>0.003778</td>\n",
       "    </tr>\n",
       "    <tr>\n",
       "      <th>...</th>\n",
       "      <td>...</td>\n",
       "      <td>...</td>\n",
       "      <td>...</td>\n",
       "      <td>...</td>\n",
       "      <td>...</td>\n",
       "      <td>...</td>\n",
       "      <td>...</td>\n",
       "      <td>...</td>\n",
       "      <td>...</td>\n",
       "      <td>...</td>\n",
       "      <td>...</td>\n",
       "      <td>...</td>\n",
       "      <td>...</td>\n",
       "      <td>...</td>\n",
       "      <td>...</td>\n",
       "      <td>...</td>\n",
       "      <td>...</td>\n",
       "      <td>...</td>\n",
       "      <td>...</td>\n",
       "      <td>...</td>\n",
       "      <td>...</td>\n",
       "    </tr>\n",
       "    <tr>\n",
       "      <th>953707509720613429</th>\n",
       "      <td>-0.008445</td>\n",
       "      <td>0.008741</td>\n",
       "      <td>-0.034499</td>\n",
       "      <td>0.012429</td>\n",
       "      <td>-0.004019</td>\n",
       "      <td>-0.068137</td>\n",
       "      <td>-0.026000</td>\n",
       "      <td>-0.008958</td>\n",
       "      <td>-0.006899</td>\n",
       "      <td>0.010585</td>\n",
       "      <td>...</td>\n",
       "      <td>-0.008839</td>\n",
       "      <td>-0.023717</td>\n",
       "      <td>-0.067747</td>\n",
       "      <td>0.000863</td>\n",
       "      <td>0.157679</td>\n",
       "      <td>-0.019117</td>\n",
       "      <td>-0.008760</td>\n",
       "      <td>-0.001366</td>\n",
       "      <td>0.075268</td>\n",
       "      <td>0.004712</td>\n",
       "    </tr>\n",
       "    <tr>\n",
       "      <th>983095443598229476</th>\n",
       "      <td>-0.033461</td>\n",
       "      <td>-0.017441</td>\n",
       "      <td>0.003829</td>\n",
       "      <td>-0.024063</td>\n",
       "      <td>-0.079712</td>\n",
       "      <td>-0.018086</td>\n",
       "      <td>-0.057891</td>\n",
       "      <td>-0.020028</td>\n",
       "      <td>-0.005829</td>\n",
       "      <td>0.058693</td>\n",
       "      <td>...</td>\n",
       "      <td>0.020201</td>\n",
       "      <td>-0.012622</td>\n",
       "      <td>-0.050680</td>\n",
       "      <td>0.035532</td>\n",
       "      <td>-0.107726</td>\n",
       "      <td>0.088145</td>\n",
       "      <td>0.043583</td>\n",
       "      <td>0.010233</td>\n",
       "      <td>-0.078222</td>\n",
       "      <td>0.011099</td>\n",
       "    </tr>\n",
       "    <tr>\n",
       "      <th>989049974880576288</th>\n",
       "      <td>-0.012545</td>\n",
       "      <td>-0.017248</td>\n",
       "      <td>0.010352</td>\n",
       "      <td>-0.005367</td>\n",
       "      <td>-0.035086</td>\n",
       "      <td>0.094543</td>\n",
       "      <td>-0.045640</td>\n",
       "      <td>0.004211</td>\n",
       "      <td>-0.007016</td>\n",
       "      <td>0.050335</td>\n",
       "      <td>...</td>\n",
       "      <td>-0.000913</td>\n",
       "      <td>-0.053048</td>\n",
       "      <td>0.207418</td>\n",
       "      <td>0.032478</td>\n",
       "      <td>-0.205465</td>\n",
       "      <td>0.077313</td>\n",
       "      <td>0.040472</td>\n",
       "      <td>0.013610</td>\n",
       "      <td>0.181102</td>\n",
       "      <td>0.004919</td>\n",
       "    </tr>\n",
       "    <tr>\n",
       "      <th>997469202936578234</th>\n",
       "      <td>-0.028194</td>\n",
       "      <td>-0.004740</td>\n",
       "      <td>0.051152</td>\n",
       "      <td>0.001024</td>\n",
       "      <td>0.023937</td>\n",
       "      <td>-0.103786</td>\n",
       "      <td>-0.003911</td>\n",
       "      <td>-0.002672</td>\n",
       "      <td>-0.006405</td>\n",
       "      <td>-0.014027</td>\n",
       "      <td>...</td>\n",
       "      <td>0.005487</td>\n",
       "      <td>0.045981</td>\n",
       "      <td>0.016940</td>\n",
       "      <td>0.009955</td>\n",
       "      <td>-0.035695</td>\n",
       "      <td>0.039257</td>\n",
       "      <td>-0.038895</td>\n",
       "      <td>-0.008983</td>\n",
       "      <td>0.099922</td>\n",
       "      <td>0.008412</td>\n",
       "    </tr>\n",
       "    <tr>\n",
       "      <th>998688566268269815</th>\n",
       "      <td>0.012757</td>\n",
       "      <td>-0.008154</td>\n",
       "      <td>0.010551</td>\n",
       "      <td>-0.000356</td>\n",
       "      <td>0.018255</td>\n",
       "      <td>-0.007656</td>\n",
       "      <td>-0.000405</td>\n",
       "      <td>0.015823</td>\n",
       "      <td>0.004404</td>\n",
       "      <td>-0.008120</td>\n",
       "      <td>...</td>\n",
       "      <td>-0.001291</td>\n",
       "      <td>0.005609</td>\n",
       "      <td>-0.018749</td>\n",
       "      <td>-0.006899</td>\n",
       "      <td>-0.062943</td>\n",
       "      <td>-0.003181</td>\n",
       "      <td>-0.001332</td>\n",
       "      <td>-0.006166</td>\n",
       "      <td>-0.012149</td>\n",
       "      <td>0.002655</td>\n",
       "    </tr>\n",
       "  </tbody>\n",
       "</table>\n",
       "<p>1112 rows × 2366 columns</p>\n",
       "</div>"
      ],
      "text/plain": [
       "contentId             -1006791494035379303  -1021685224930603833  \\\n",
       "personId                                                           \n",
       "-1007001694607905623             -0.003787              0.000872   \n",
       "-1032019229384696495              0.992435              0.015898   \n",
       "-108842214936804958              -0.015866             -0.029223   \n",
       "-1130272294246983140              0.166369              0.106842   \n",
       "-1160159014793528221              0.011422             -0.002571   \n",
       "...                                    ...                   ...   \n",
       "953707509720613429               -0.008445              0.008741   \n",
       "983095443598229476               -0.033461             -0.017441   \n",
       "989049974880576288               -0.012545             -0.017248   \n",
       "997469202936578234               -0.028194             -0.004740   \n",
       "998688566268269815                0.012757             -0.008154   \n",
       "\n",
       "contentId             -1022885988494278200  -1024046541613287684  \\\n",
       "personId                                                           \n",
       "-1007001694607905623             -0.001285              0.002931   \n",
       "-1032019229384696495              0.030610              0.001633   \n",
       "-108842214936804958              -0.032987             -0.012270   \n",
       "-1130272294246983140              0.223735              0.055399   \n",
       "-1160159014793528221              0.004961             -0.005116   \n",
       "...                                    ...                   ...   \n",
       "953707509720613429               -0.034499              0.012429   \n",
       "983095443598229476                0.003829             -0.024063   \n",
       "989049974880576288                0.010352             -0.005367   \n",
       "997469202936578234                0.051152              0.001024   \n",
       "998688566268269815                0.010551             -0.000356   \n",
       "\n",
       "contentId             -1033806831489252007  -1038011342017850  \\\n",
       "personId                                                        \n",
       "-1007001694607905623              0.003889           0.013863   \n",
       "-1032019229384696495              0.012849           0.033984   \n",
       "-108842214936804958               0.045642           0.015761   \n",
       "-1130272294246983140             -0.009947          -0.088267   \n",
       "-1160159014793528221             -0.004820          -0.051882   \n",
       "...                                    ...                ...   \n",
       "953707509720613429               -0.004019          -0.068137   \n",
       "983095443598229476               -0.079712          -0.018086   \n",
       "989049974880576288               -0.035086           0.094543   \n",
       "997469202936578234                0.023937          -0.103786   \n",
       "998688566268269815                0.018255          -0.007656   \n",
       "\n",
       "contentId             -1039912738963181810  -1046621686880462790  \\\n",
       "personId                                                           \n",
       "-1007001694607905623             -0.001591              0.032587   \n",
       "-1032019229384696495              1.013460              0.002882   \n",
       "-108842214936804958               0.177709              0.014010   \n",
       "-1130272294246983140              0.004609             -0.070600   \n",
       "-1160159014793528221             -0.016217              0.000016   \n",
       "...                                    ...                   ...   \n",
       "953707509720613429               -0.026000             -0.008958   \n",
       "983095443598229476               -0.057891             -0.020028   \n",
       "989049974880576288               -0.045640              0.004211   \n",
       "997469202936578234               -0.003911             -0.002672   \n",
       "998688566268269815               -0.000405              0.015823   \n",
       "\n",
       "contentId             -1051830303851697653  -1055630159212837930  ...  \\\n",
       "personId                                                          ...   \n",
       "-1007001694607905623             -0.001272              0.000256  ...   \n",
       "-1032019229384696495              0.010873             -0.004411  ...   \n",
       "-108842214936804958               0.021468             -0.029695  ...   \n",
       "-1130272294246983140             -0.039416              0.062143  ...   \n",
       "-1160159014793528221              0.019629             -0.003028  ...   \n",
       "...                                    ...                   ...  ...   \n",
       "953707509720613429               -0.006899              0.010585  ...   \n",
       "983095443598229476               -0.005829              0.058693  ...   \n",
       "989049974880576288               -0.007016              0.050335  ...   \n",
       "997469202936578234               -0.006405             -0.014027  ...   \n",
       "998688566268269815                0.004404             -0.008120  ...   \n",
       "\n",
       "contentId             9217155070834564627  921770761777842242  \\\n",
       "personId                                                        \n",
       "-1007001694607905623            -0.003759           -0.000227   \n",
       "-1032019229384696495             2.974838            0.007639   \n",
       "-108842214936804958              0.134796            0.029271   \n",
       "-1130272294246983140             0.042020           -0.058595   \n",
       "-1160159014793528221            -0.004893            0.008450   \n",
       "...                                   ...                 ...   \n",
       "953707509720613429              -0.008839           -0.023717   \n",
       "983095443598229476               0.020201           -0.012622   \n",
       "989049974880576288              -0.000913           -0.053048   \n",
       "997469202936578234               0.005487            0.045981   \n",
       "998688566268269815              -0.001291            0.005609   \n",
       "\n",
       "contentId             9220445660318725468  9222265156747237864  \\\n",
       "personId                                                         \n",
       "-1007001694607905623            -0.008608            -0.000033   \n",
       "-1032019229384696495            -0.020085            -0.004258   \n",
       "-108842214936804958             -0.050596            -0.000277   \n",
       "-1130272294246983140             0.214094            -0.005800   \n",
       "-1160159014793528221            -0.024916             0.002783   \n",
       "...                                   ...                  ...   \n",
       "953707509720613429              -0.067747             0.000863   \n",
       "983095443598229476              -0.050680             0.035532   \n",
       "989049974880576288               0.207418             0.032478   \n",
       "997469202936578234               0.016940             0.009955   \n",
       "998688566268269815              -0.018749            -0.006899   \n",
       "\n",
       "contentId             943818026930898372  957332268361319692  \\\n",
       "personId                                                       \n",
       "-1007001694607905623            0.010733            0.009452   \n",
       "-1032019229384696495            2.353326           -0.031199   \n",
       "-108842214936804958            -0.178115           -0.080439   \n",
       "-1130272294246983140            1.156069           -0.176958   \n",
       "-1160159014793528221           -0.007486            0.035766   \n",
       "...                                  ...                 ...   \n",
       "953707509720613429              0.157679           -0.019117   \n",
       "983095443598229476             -0.107726            0.088145   \n",
       "989049974880576288             -0.205465            0.077313   \n",
       "997469202936578234             -0.035695            0.039257   \n",
       "998688566268269815             -0.062943           -0.003181   \n",
       "\n",
       "contentId             966067567430037498  972258375127367383  \\\n",
       "personId                                                       \n",
       "-1007001694607905623            0.003438           -0.000179   \n",
       "-1032019229384696495            0.033007            0.002056   \n",
       "-108842214936804958             1.891358            0.016009   \n",
       "-1130272294246983140           -0.020508            0.041146   \n",
       "-1160159014793528221            0.003191            0.000242   \n",
       "...                                  ...                 ...   \n",
       "953707509720613429             -0.008760           -0.001366   \n",
       "983095443598229476              0.043583            0.010233   \n",
       "989049974880576288              0.040472            0.013610   \n",
       "997469202936578234             -0.038895           -0.008983   \n",
       "998688566268269815             -0.001332           -0.006166   \n",
       "\n",
       "contentId             980458131533897249  98528655405030624  \n",
       "personId                                                     \n",
       "-1007001694607905623            0.009597          -0.002503  \n",
       "-1032019229384696495           -0.003534           0.009510  \n",
       "-108842214936804958             0.003305          -0.017166  \n",
       "-1130272294246983140           -0.055612           0.017217  \n",
       "-1160159014793528221           -0.034082           0.003778  \n",
       "...                                  ...                ...  \n",
       "953707509720613429              0.075268           0.004712  \n",
       "983095443598229476             -0.078222           0.011099  \n",
       "989049974880576288              0.181102           0.004919  \n",
       "997469202936578234              0.099922           0.008412  \n",
       "998688566268269815             -0.012149           0.002655  \n",
       "\n",
       "[1112 rows x 2366 columns]"
      ]
     },
     "execution_count": 62,
     "metadata": {},
     "output_type": "execute_result"
    }
   ],
   "source": [
    "new_ratings = pd.DataFrame(U[:, :100].dot(s).dot(V[:100]), index=ratings.index, columns=ratings.columns)\n",
    "\n",
    "new_ratings"
   ]
  },
  {
   "cell_type": "markdown",
   "metadata": {},
   "source": [
    "**Задание 6.8**\n",
    "\n",
    "Вычислите качество полученного предсказания, используя всё ту же метрику точности. Ответ округлите до трёх знаков после точки-разделителя."
   ]
  },
  {
   "cell_type": "code",
   "execution_count": 65,
   "metadata": {},
   "outputs": [
    {
     "data": {
      "text/plain": [
       "0.012"
      ]
     },
     "execution_count": 65,
     "metadata": {},
     "output_type": "execute_result"
    }
   ],
   "source": [
    "top_k = 10\n",
    "predictions = []\n",
    "\n",
    "for personId in interactions.index:\n",
    "    prediction = (\n",
    "        new_ratings.loc[personId].sort_values(ascending=False).index.values\n",
    "    )\n",
    "\n",
    "    predictions.append(\n",
    "        list(\n",
    "            prediction[\n",
    "                ~np.in1d(prediction, interactions.loc[personId, \"true_train\"])\n",
    "            ]\n",
    "        )[:top_k]\n",
    "    )\n",
    "\n",
    "interactions[\"prediction_svd\"] = predictions\n",
    "\n",
    "calc_precision(\"prediction_svd\").round(3)"
   ]
  },
  {
   "cell_type": "code",
   "execution_count": 67,
   "metadata": {},
   "outputs": [],
   "source": [
    "ratings_matrix = csr_matrix(ratings)"
   ]
  },
  {
   "cell_type": "markdown",
   "metadata": {},
   "source": [
    "**Задание 6.9**\n",
    "\n",
    "Воспользовавшись функцией random_train_test_split() из библиотеки lightfm, разделите данные на валидационную и обучающую выборки в соотношении 1:2 (30% на валидационную выборку, 70% на обучающую). В качестве значения параметра random_state возьмите число 13.\n",
    "\n",
    "Обучите модель LightFM со 100 компонентами, параметром random_state = 13, темпом обучения 0.05 и функцией потерь 'warp'. Обратите внимание на то, что так как в данном случае у нас нет item-признаков, то параметр item_features задавать не нужно.\n",
    "\n",
    "Вычислите показатель точности (precision@k) при k = 10. Ответ округлите до двух знаков после точки-разделителя."
   ]
  },
  {
   "cell_type": "code",
   "execution_count": null,
   "metadata": {},
   "outputs": [],
   "source": [
    "from lightfm import LightFM\n",
    "from lightfm.cross_validation import random_train_test_split\n",
    "from lightfm.evaluation import precision_at_k, recall_at_k  \n",
    "from scipy.sparse import csr_matrix\n",
    "\n",
    "ratings_matrix = csr_matrix(ratings) # передаём в качестве аргументов в функцию выставленный рейтинг (это будут значения матрицы), а также id пользователя и id книги (это будут индексы для строк и столбцов матрицы)\n",
    "model = LightFM(loss='warp', #определяем функцию потерь\n",
    "                random_state=13, #фиксируем случайное разбиение\n",
    "                learning_rate=0.05, #темп обучения\n",
    "                no_components=100) #размерность вектора для представления данных в модели\n",
    "\n",
    "train,test = random_train_test_split(ratings_matrix, test_percentage=0.3, random_state=13)\n",
    "model.fit(train)\n",
    "prec_score = precision_at_k(model, test).mean()\n",
    "\n",
    "\n",
    "print(round(prec_score, 2))"
   ]
  },
  {
   "cell_type": "code",
   "execution_count": 68,
   "metadata": {},
   "outputs": [
    {
     "data": {
      "text/plain": [
       "0.5277777777777778"
      ]
     },
     "execution_count": 68,
     "metadata": {},
     "output_type": "execute_result"
    }
   ],
   "source": [
    "(1+1/4+1/3)/3"
   ]
  }
 ],
 "metadata": {
  "kernelspec": {
   "display_name": "Python 3",
   "language": "python",
   "name": "python3"
  },
  "language_info": {
   "codemirror_mode": {
    "name": "ipython",
    "version": 3
   },
   "file_extension": ".py",
   "mimetype": "text/x-python",
   "name": "python",
   "nbconvert_exporter": "python",
   "pygments_lexer": "ipython3",
   "version": "3.9.12"
  }
 },
 "nbformat": 4,
 "nbformat_minor": 2
}
