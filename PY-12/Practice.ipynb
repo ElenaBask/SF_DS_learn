{
 "cells": [
  {
   "cell_type": "code",
   "execution_count": 1,
   "metadata": {},
   "outputs": [],
   "source": [
    "import pandas as pd"
   ]
  },
  {
   "cell_type": "code",
   "execution_count": 4,
   "metadata": {},
   "outputs": [
    {
     "name": "stdout",
     "output_type": "stream",
     "text": [
      "/Root/users/users1.csv\n",
      "/Root/users/users2.csv\n",
      "/Root/users/users3.csv\n"
     ]
    }
   ],
   "source": [
    "files_lst = sorted(['users2.csv', 'users1.csv', 'users3.csv'])\n",
    "for i in files_lst:\n",
    "    print('/Root/users/' + i)"
   ]
  },
  {
   "cell_type": "code",
   "execution_count": null,
   "metadata": {},
   "outputs": [],
   "source": [
    "path_lst = sorted(os.listdir(path))\n",
    "    path_lst = ['/Root/users/' + i for i in files_lst]\n",
    "    df_lst = []\n",
    "    \n",
    "    for i in range(len(path_lst):\n",
    "        df-lst[i] = pd.read_csv(path_lst[i])\n",
    "        \n",
    "    print(df_lst)\n",
    "    \n",
    "    # res_ds = pd.concat(df_lst).drop_duplicates().reindex()\n",
    "    # return res_ds\n",
    "        "
   ]
  },
  {
   "cell_type": "code",
   "execution_count": 8,
   "metadata": {},
   "outputs": [
    {
     "name": "stdout",
     "output_type": "stream",
     "text": [
      "True\n"
     ]
    }
   ],
   "source": [
    "def lucky_ticket(ticket_number):\n",
    "    return (\n",
    "       ticket_number//100000\n",
    "     + ticket_number//10000 % 10\n",
    "     + ticket_number//1000 % 10 ==\n",
    "       ticket_number//100 % 10\n",
    "     + ticket_number//10 % 10\n",
    "     + ticket_number%10\n",
    ")\n",
    "    \n",
    "print(lucky_ticket(523406))"
   ]
  }
 ],
 "metadata": {
  "kernelspec": {
   "display_name": "Python 3.10.6 64-bit",
   "language": "python",
   "name": "python3"
  },
  "language_info": {
   "codemirror_mode": {
    "name": "ipython",
    "version": 3
   },
   "file_extension": ".py",
   "mimetype": "text/x-python",
   "name": "python",
   "nbconvert_exporter": "python",
   "pygments_lexer": "ipython3",
   "version": "3.10.6"
  },
  "orig_nbformat": 4,
  "vscode": {
   "interpreter": {
    "hash": "369f2c481f4da34e4445cda3fffd2e751bd1c4d706f27375911949ba6bb62e1c"
   }
  }
 },
 "nbformat": 4,
 "nbformat_minor": 2
}
